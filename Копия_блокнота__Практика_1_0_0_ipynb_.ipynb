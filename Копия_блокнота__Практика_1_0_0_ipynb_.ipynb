{
  "nbformat": 4,
  "nbformat_minor": 0,
  "metadata": {
    "colab": {
      "provenance": [],
      "collapsed_sections": [
        "0ct1u6lqE73j",
        "C5DX5Uf2FfP6",
        "b_mJHXcQGI9t"
      ]
    },
    "kernelspec": {
      "name": "python3",
      "display_name": "Python 3"
    },
    "language_info": {
      "name": "python"
    }
  },
  "cells": [
    {
      "cell_type": "markdown",
      "source": [
        "ФИО: Чикин Алексей Юрьевич"
      ],
      "metadata": {
        "id": "fLDS5f_mCnPa"
      }
    },
    {
      "cell_type": "markdown",
      "source": [
        "# Задание (совместное с преподавателем)\n",
        "\n",
        "\n"
      ],
      "metadata": {
        "id": "-CSHUbWzCqeM"
      }
    },
    {
      "cell_type": "markdown",
      "source": [
        "Напишите систему для учёта отпусков с возможностью узнавать, сколько дней отпуска осталось у того или иного сотрудника.\n",
        "Для этого создайте класс Employee со следующими методами:\n",
        "\n",
        "- Метод consume_vacation должен отвечать за списание дней отпуска.\n",
        "\n",
        "Единственный параметр этого метода (кроме self) — количество потраченных отпускных дней (целое число).\n",
        "\n",
        "При вызове метода consume_vacation соответствующее количество дней должно вычитаться из общего числа доступных отпускных дней сотрудника.\n",
        "\n",
        "Чтобы определить число доступных отпускных дней конкретного сотрудника, в классе опишите атрибут экземпляра |, который по умолчанию будет равен значению атрибута класса vacation_days, и используйте этот атрибут в работе метода.\n",
        "\n",
        "- Метод get_vacation_details должен возвращать остаток отпускных дней сотрудника в формате: ```Остаток отпускных дней: <число>.```\n",
        "\n",
        "\n",
        "Чтобы проверить работу программы:\n",
        "1. Создайте экземпляр класса Employee.\n",
        "2. Вызовите метод consume_vacation, указав подходящее значение аргумента, например 7.\n",
        "3. Вызовите метод get_vacation_details."
      ],
      "metadata": {
        "id": "a_flBjZOCwYz"
      }
    },
    {
      "cell_type": "code",
      "source": [
        "class Employee:\n",
        "    vacation_days = 28\n",
        "\n",
        "\n",
        "    def __init__(self,first_name, second_name, gender):\n",
        "      self.first_name = first_name # в first_name пере дали first_name (имя)\n",
        "      self.second_name = second_name\n",
        "      self.gender = gender\n",
        "      self.remaining_vacation_days = self.vacation_days #Количество оставшихся отпускных дней\n",
        "\n",
        "\n",
        "    def consume_vacation(self, days):\n",
        "      self.remaining_vacation_days -= days\n",
        "\n",
        "\n",
        "    def get_vacation_days(self):\n",
        "      return f'Остаток отпускных дней: {self.remaining_vacation_days}.'\n",
        "\n",
        "\n",
        "employee = Employee('Олег', 'СуперОлег', 'м')\n",
        "employee2 = Employee('Олег', 'НеСуперОлег', 'м')\n",
        "\n",
        "print(employee.second_name)\n",
        "print(employee2.second_name)\n",
        "\n",
        "print(employee.remaining_vacation_days)\n",
        "employee.consume_vacation(14)\n",
        "print(employee.remaining_vacation_days)"
      ],
      "metadata": {
        "id": "G4bUraN4CwBI",
        "colab": {
          "base_uri": "https://localhost:8080/"
        },
        "outputId": "81a85928-b5e8-424a-afed-b1d14dde5aa1"
      },
      "execution_count": null,
      "outputs": [
        {
          "output_type": "stream",
          "name": "stdout",
          "text": [
            "СуперОлег\n",
            "НеСуперОлег\n",
            "28\n",
            "14\n"
          ]
        }
      ]
    },
    {
      "cell_type": "markdown",
      "source": [
        "# Задание 1"
      ],
      "metadata": {
        "id": "8XGka5GtEBK1"
      }
    },
    {
      "cell_type": "markdown",
      "source": [
        "Задание:\n",
        "\n",
        "Создайте класс с именем Rectangle который имеет:\n",
        "- Атрибуты ширины и высоты.\n",
        "- Метод расчета площади.\n",
        "- Метод расчета периметра.\n",
        "- Метод отображения размеров прямоугольника.\n",
        "\n",
        "Создайте экземпляр класса Rectangleи продемонстрируйте его функциональность."
      ],
      "metadata": {
        "id": "jQ4qqd8nEZBY"
      }
    },
    {
      "cell_type": "code",
      "source": [
        "class Rectangle:\n",
        "    height = 10\n",
        "    width = 5\n",
        "\n",
        "\n",
        "    def squaring(self):\n",
        "      self.square = self.height * self.width\n",
        "      return self.square\n",
        "\n",
        "\n",
        "    def perimetering(self):\n",
        "      self.perimetr = 2*(self.height + self.width)\n",
        "      return self.perimetr\n",
        "\n",
        "\n",
        "    def dimension(self):\n",
        "      return(f'Длина: {self.height}\\nШирина: {self.width}\\nПлощадь: {Rectangle().squaring()}\\nПериметр: {Rectangle().perimetering()}')\n",
        "\n",
        "\n",
        "dim = Rectangle()\n",
        "print(dim.dimension())"
      ],
      "metadata": {
        "id": "dG6uNPqTEAvt",
        "colab": {
          "base_uri": "https://localhost:8080/"
        },
        "outputId": "5b83b1da-e78c-450c-a52e-c8c2cdb0055e"
      },
      "execution_count": null,
      "outputs": [
        {
          "output_type": "stream",
          "name": "stdout",
          "text": [
            "Длина: 10\n",
            "Ширина: 5\n",
            "Площадь: 50\n",
            "Периметр: 30\n"
          ]
        }
      ]
    },
    {
      "cell_type": "markdown",
      "source": [
        "# Задание 2"
      ],
      "metadata": {
        "id": "0ct1u6lqE73j"
      }
    },
    {
      "cell_type": "markdown",
      "source": [
        "Задание: Создайте мини версию банковской системы:\n",
        "\n",
        "\n",
        "Инструкции:\n",
        "\n",
        "1. Создайте класс BankAccountсо следующими атрибутами:\n",
        "    - account_holder -  владелец счета\n",
        "    - balance - баланс счета\n",
        "\n",
        "2. Реализуйте следующие методы:\n",
        "    - Метод для инициализации владельца счета: имя владельца счета и установите начальный баланс на 0.\n",
        "    - deposit(amount): Добавьте указанную сумму к балансу.\n",
        "    - withdraw(amount): Вычесть указанную сумму из баланса, если средств достаточно; в противном случае вывести предупреждение.\n",
        "    - get_balance(): Возврат текущего баланса.\n",
        "\n",
        "\n",
        "Создайте объект класса и продемонстрируйте его возможности"
      ],
      "metadata": {
        "id": "FOpIpcLxE-WK"
      }
    },
    {
      "cell_type": "code",
      "source": [
        "class BankAccount:\n",
        "    account_holder = ''\n",
        "    balance = 0\n",
        "\n",
        "\n",
        "    def __init__(self, name):\n",
        "      self.account_holder = name\n",
        "      self.remaining_balance = 0\n",
        "\n",
        "\n",
        "    def deposit(self, amount):\n",
        "      self.remaining_balance += amount\n",
        "      return f'Сумма добавлена к счёту. Текущий баланс: {self.remaining_balance}.'\n",
        "\n",
        "\n",
        "    def withdraw(self, amount):\n",
        "      if self.remaining_balance >= amount:\n",
        "        self.remaining_balance -= amount\n",
        "        return f'Сумма вычтена со счёта. Текущий баланс: {self.remaining_balance}.'\n",
        "      else:\n",
        "        return f'На вашем счёте недостаточно средств. Текущий баланс: {self.remaining_balance}.'\n",
        "\n",
        "\n",
        "    def get_balance(self):\n",
        "      return f'На вашем счету {self.remaining_balance} рублей.'\n",
        "\n",
        "\n",
        "holder = BankAccount('Alex')\n",
        "\n",
        "print(f'Владелец счёта: {holder.account_holder}')\n",
        "print(holder.deposit(20))\n",
        "print(holder.withdraw(30))\n",
        "print(holder.withdraw(10))\n",
        "print(holder.get_balance())"
      ],
      "metadata": {
        "id": "WWXNIUrCE99W",
        "colab": {
          "base_uri": "https://localhost:8080/"
        },
        "outputId": "129bd4d5-2edf-49d6-f787-0324ce0c7766"
      },
      "execution_count": null,
      "outputs": [
        {
          "output_type": "stream",
          "name": "stdout",
          "text": [
            "Владелец счёта: Alex\n",
            "Сумма добавлена к счёту. Текущий баланс: 20.\n",
            "На вашем счёте недостаточно средств. Текущий баланс: 20.\n",
            "Сумма вычтена со счёта. Текущий баланс: 10.\n",
            "На вашем счету 10 рублей.\n"
          ]
        }
      ]
    },
    {
      "cell_type": "markdown",
      "source": [
        "# Задание 3"
      ],
      "metadata": {
        "id": "C5DX5Uf2FfP6"
      }
    },
    {
      "cell_type": "markdown",
      "source": [
        "Возьмите код и задание (Рыцарь и дракон) из предыдущей практики и реализуйте его с применением классов"
      ],
      "metadata": {
        "id": "0cR-MYepFgz6"
      }
    },
    {
      "cell_type": "code",
      "source": [
        "class Knight:\n",
        "    knight_armour = 100\n",
        "    knight_damage = 10\n",
        "    knight_health_points = 10\n",
        "\n",
        "\n",
        "    def __init__(self,dragon_damage, dragon_health_points):\n",
        "      self.dragon_damage = dragon_damage\n",
        "      self.dragon_health_points = dragon_health_points\n",
        "\n",
        "\n",
        "    def getting_damage(self):\n",
        "      if self.knight_armour > 0:\n",
        "        self.knight_armour -= self.dragon_damage\n",
        "        if self.knight_armour < 0:\n",
        "            damage_to_health = -self.knight_armour\n",
        "            self.knight_armour = 0\n",
        "            self.knight_health_points -= damage_to_health\n",
        "      else:\n",
        "        self.knight_health_points -= self.dragon_damage\n",
        "\n",
        "      print(f'Дракон ударяет рыцаря.\\n Броня рыцаря: {self.knight_armour}\\nХП Рыцаря: {self.knight_health_points}')\n",
        "\n",
        "\n",
        "\n",
        "class Dragon:\n",
        "    dragon_damage = 20\n",
        "    dragon_health_points = 100\n",
        "\n",
        "\n",
        "    def __init__(self,knight_damage, knight_health_points):\n",
        "      self.knight_damage = knight_damage\n",
        "      self.knight_health_points = knight_health_points\n",
        "\n",
        "\n",
        "    def getting_damage(self):\n",
        "       self.dragon_health_points -= self.knight_damage\n",
        "       print(f'Рыцарь ударяет дракона. ХП Дракона: {self.dragon_health_points}.')\n",
        "\n",
        "\n",
        "\n",
        "def outcome(dragon_health_points, knight_health_points):\n",
        "       if knight_health_points <= 0:\n",
        "           print('Рыцарь пал в бою.')\n",
        "           return True\n",
        "       elif dragon_health_points <= 0:\n",
        "          print('Дракон повержен! Рыцарь победил!')\n",
        "          return False\n",
        "\n",
        "\n",
        "def main():\n",
        "      qu1 = int(input('\\n1. Ничего\\n2. Пойти бить дракона. Сценарий первый.\\n3. Пойти бить дракона. Сценарий второй.\\n'))\n",
        "\n",
        "      if qu1 == 1:\n",
        "        print('Exit')\n",
        "\n",
        "      if qu1 == 2:\n",
        "        knight = Knight(20,100)\n",
        "        dragon = Dragon(10,10)\n",
        "        print(f'Итак, вы рыцарь. У вас есть {knight.knight_armour} брони и {knight.knight_health_points} ХП. Вы наносите {knight.knight_damage} урона.\\n')\n",
        "        print(f'Ну а против вас дракон. У него всего {dragon.dragon_health_points} ХП, но наносит он {dragon.dragon_damage} урона.\\n')\n",
        "        print('Вы подходите к нему и первыми начинаете бой.')\n",
        "\n",
        "        while int(dragon.dragon_health_points)>0:\n",
        "          dragon.getting_damage()\n",
        "          print('Дракон пропускает этот ход.')\n",
        "          dragon.getting_damage()\n",
        "          knight.getting_damage()\n",
        "          rr = outcome(dragon.dragon_health_points,knight.knight_health_points)\n",
        "          if rr == True:\n",
        "            break\n",
        "\n",
        "      if qu1 == 3:\n",
        "        knight = Knight(20,100)\n",
        "        dragon = Dragon(10,10)\n",
        "        print(f'Итак, вы рыцарь.\\n У вас есть {knight.knight_armour} брони и {knight.knight_health_points} ХП.\\n Вы наносите {knight.knight_damage} урона.')\n",
        "        print(f'Ну а против вас дракон. У него всего {dragon.dragon_health_points} ХП, но наносит он {dragon.dragon_damage} урона.')\n",
        "        print('Вы подходите к нему, и дракон успевает ударить первее вас.')\n",
        "\n",
        "        while int(knight.knight_health_points)>0:\n",
        "          knight.getting_damage()\n",
        "          print('Рыцарь пропускает этот ход.')\n",
        "          knight.getting_damage()\n",
        "          dragon.getting_damage()\n",
        "          rr = outcome(dragon.dragon_health_points,knight.knight_health_points)\n",
        "          if rr == False:\n",
        "            break\n",
        "\n",
        "\n",
        "\n",
        "if __name__ == '__main__':\n",
        "  main()\n"
      ],
      "metadata": {
        "id": "Oz9BZbhAFwua",
        "colab": {
          "base_uri": "https://localhost:8080/",
          "height": 321
        },
        "outputId": "e5773d06-d00a-45f2-b9f7-4b03017ef259"
      },
      "execution_count": 1,
      "outputs": [
        {
          "output_type": "error",
          "ename": "KeyboardInterrupt",
          "evalue": "Interrupted by user",
          "traceback": [
            "\u001b[0;31m---------------------------------------------------------------------------\u001b[0m",
            "\u001b[0;31mKeyboardInterrupt\u001b[0m                         Traceback (most recent call last)",
            "\u001b[0;32m<ipython-input-1-7faebb141a05>\u001b[0m in \u001b[0;36m<cell line: 91>\u001b[0;34m()\u001b[0m\n\u001b[1;32m     90\u001b[0m \u001b[0;34m\u001b[0m\u001b[0m\n\u001b[1;32m     91\u001b[0m \u001b[0;32mif\u001b[0m \u001b[0m__name__\u001b[0m \u001b[0;34m==\u001b[0m \u001b[0;34m'__main__'\u001b[0m\u001b[0;34m:\u001b[0m\u001b[0;34m\u001b[0m\u001b[0;34m\u001b[0m\u001b[0m\n\u001b[0;32m---> 92\u001b[0;31m   \u001b[0mmain\u001b[0m\u001b[0;34m(\u001b[0m\u001b[0;34m)\u001b[0m\u001b[0;34m\u001b[0m\u001b[0;34m\u001b[0m\u001b[0m\n\u001b[0m",
            "\u001b[0;32m<ipython-input-1-7faebb141a05>\u001b[0m in \u001b[0;36mmain\u001b[0;34m()\u001b[0m\n\u001b[1;32m     50\u001b[0m \u001b[0;34m\u001b[0m\u001b[0m\n\u001b[1;32m     51\u001b[0m \u001b[0;32mdef\u001b[0m \u001b[0mmain\u001b[0m\u001b[0;34m(\u001b[0m\u001b[0;34m)\u001b[0m\u001b[0;34m:\u001b[0m\u001b[0;34m\u001b[0m\u001b[0;34m\u001b[0m\u001b[0m\n\u001b[0;32m---> 52\u001b[0;31m       \u001b[0mqu1\u001b[0m \u001b[0;34m=\u001b[0m \u001b[0mint\u001b[0m\u001b[0;34m(\u001b[0m\u001b[0minput\u001b[0m\u001b[0;34m(\u001b[0m\u001b[0;34m'\\n1. Ничего\\n2. Пойти бить дракона. Сценарий первый.\\n3. Пойти бить дракона. Сценарий второй.\\n'\u001b[0m\u001b[0;34m)\u001b[0m\u001b[0;34m)\u001b[0m\u001b[0;34m\u001b[0m\u001b[0;34m\u001b[0m\u001b[0m\n\u001b[0m\u001b[1;32m     53\u001b[0m \u001b[0;34m\u001b[0m\u001b[0m\n\u001b[1;32m     54\u001b[0m       \u001b[0;32mif\u001b[0m \u001b[0mqu1\u001b[0m \u001b[0;34m==\u001b[0m \u001b[0;36m1\u001b[0m\u001b[0;34m:\u001b[0m\u001b[0;34m\u001b[0m\u001b[0;34m\u001b[0m\u001b[0m\n",
            "\u001b[0;32m/usr/local/lib/python3.10/dist-packages/ipykernel/kernelbase.py\u001b[0m in \u001b[0;36mraw_input\u001b[0;34m(self, prompt)\u001b[0m\n\u001b[1;32m    849\u001b[0m                 \u001b[0;34m\"raw_input was called, but this frontend does not support input requests.\"\u001b[0m\u001b[0;34m\u001b[0m\u001b[0;34m\u001b[0m\u001b[0m\n\u001b[1;32m    850\u001b[0m             )\n\u001b[0;32m--> 851\u001b[0;31m         return self._input_request(str(prompt),\n\u001b[0m\u001b[1;32m    852\u001b[0m             \u001b[0mself\u001b[0m\u001b[0;34m.\u001b[0m\u001b[0m_parent_ident\u001b[0m\u001b[0;34m,\u001b[0m\u001b[0;34m\u001b[0m\u001b[0;34m\u001b[0m\u001b[0m\n\u001b[1;32m    853\u001b[0m             \u001b[0mself\u001b[0m\u001b[0;34m.\u001b[0m\u001b[0m_parent_header\u001b[0m\u001b[0;34m,\u001b[0m\u001b[0;34m\u001b[0m\u001b[0;34m\u001b[0m\u001b[0m\n",
            "\u001b[0;32m/usr/local/lib/python3.10/dist-packages/ipykernel/kernelbase.py\u001b[0m in \u001b[0;36m_input_request\u001b[0;34m(self, prompt, ident, parent, password)\u001b[0m\n\u001b[1;32m    893\u001b[0m             \u001b[0;32mexcept\u001b[0m \u001b[0mKeyboardInterrupt\u001b[0m\u001b[0;34m:\u001b[0m\u001b[0;34m\u001b[0m\u001b[0;34m\u001b[0m\u001b[0m\n\u001b[1;32m    894\u001b[0m                 \u001b[0;31m# re-raise KeyboardInterrupt, to truncate traceback\u001b[0m\u001b[0;34m\u001b[0m\u001b[0;34m\u001b[0m\u001b[0m\n\u001b[0;32m--> 895\u001b[0;31m                 \u001b[0;32mraise\u001b[0m \u001b[0mKeyboardInterrupt\u001b[0m\u001b[0;34m(\u001b[0m\u001b[0;34m\"Interrupted by user\"\u001b[0m\u001b[0;34m)\u001b[0m \u001b[0;32mfrom\u001b[0m \u001b[0;32mNone\u001b[0m\u001b[0;34m\u001b[0m\u001b[0;34m\u001b[0m\u001b[0m\n\u001b[0m\u001b[1;32m    896\u001b[0m             \u001b[0;32mexcept\u001b[0m \u001b[0mException\u001b[0m \u001b[0;32mas\u001b[0m \u001b[0me\u001b[0m\u001b[0;34m:\u001b[0m\u001b[0;34m\u001b[0m\u001b[0;34m\u001b[0m\u001b[0m\n\u001b[1;32m    897\u001b[0m                 \u001b[0mself\u001b[0m\u001b[0;34m.\u001b[0m\u001b[0mlog\u001b[0m\u001b[0;34m.\u001b[0m\u001b[0mwarning\u001b[0m\u001b[0;34m(\u001b[0m\u001b[0;34m\"Invalid Message:\"\u001b[0m\u001b[0;34m,\u001b[0m \u001b[0mexc_info\u001b[0m\u001b[0;34m=\u001b[0m\u001b[0;32mTrue\u001b[0m\u001b[0;34m)\u001b[0m\u001b[0;34m\u001b[0m\u001b[0;34m\u001b[0m\u001b[0m\n",
            "\u001b[0;31mKeyboardInterrupt\u001b[0m: Interrupted by user"
          ]
        }
      ]
    },
    {
      "cell_type": "markdown",
      "source": [
        "# Дополнительное задание\n"
      ],
      "metadata": {
        "id": "b_mJHXcQGI9t"
      }
    },
    {
      "cell_type": "markdown",
      "source": [
        "Задача: Система управления библиотекой\n",
        "\n",
        "**Цель**\n",
        "Создайте простую систему управления библиотекой, которая позволит пользователям добавлять книги, брать книги, возвращать книги и просматривать список доступных книг.\n",
        "\n",
        "**Требования**\n",
        "\n",
        "1. **Определение класса**:\n",
        "   – Создайте класс с именем «Book» со следующими атрибутами:\n",
        "     - `title`\n",
        "     - `автор`\n",
        "     - `isbn`\n",
        "     - `is_borrowed` (по умолчанию `False`)\n",
        "\n",
        "2. **Класс библиотеки**:\n",
        "   - Создайте класс с именем Library, который управляет коллекцией книг.\n",
        "   - Класс должен иметь следующие методы:\n",
        "     - `__init__(self)`: инициализирует пустой список книг.\n",
        "     - `add_book(self, book: Book)`: добавляет новую книгу в библиотеку.\n",
        "     - `borrow_book(self, isbn: str)`: помечает книгу как заимствованную. Если книга не найдена или уже взята, выведите соответствующее сообщение.\n",
        "     - `return_book(self, isbn: str)`: помечает книгу как возвращенную. Если книга не найдена или не была взята взаймы, выведите соответствующее сообщение.\n",
        "     - `list_available_books(self)`: печатает список всех доступных книг в библиотеке.\n",
        "     - `find_book(self, isbn: str)`: возвращает объект книги, если он найден, в противном случае возвращает `None`.\n",
        "\n",
        "3. **Взаимодействие с пользователем**:\n",
        "   - Создайте простое текстовое меню, которое позволит пользователям:\n",
        "     - Добавить книгу\n",
        "     - Одолжить книгу\n",
        "     - Вернуть книгу\n",
        "     - Список доступных книг\n",
        "     - Выйти из программы"
      ],
      "metadata": {
        "id": "pnIUdFPcGOVL"
      }
    },
    {
      "cell_type": "code",
      "source": [],
      "metadata": {
        "id": "GKKmdfN8GL6f"
      },
      "execution_count": null,
      "outputs": []
    }
  ]
}
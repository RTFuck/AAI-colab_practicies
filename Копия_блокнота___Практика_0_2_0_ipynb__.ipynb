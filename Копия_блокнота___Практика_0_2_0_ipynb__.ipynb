{
  "nbformat": 4,
  "nbformat_minor": 0,
  "metadata": {
    "colab": {
      "provenance": []
    },
    "kernelspec": {
      "name": "python3",
      "display_name": "Python 3"
    },
    "language_info": {
      "name": "python"
    }
  },
  "cells": [
    {
      "cell_type": "markdown",
      "source": [
        "Напишите свое ФИО:"
      ],
      "metadata": {
        "id": "0PnTh-ajEoEb"
      }
    },
    {
      "cell_type": "code",
      "source": [
        "Чикин Алексей Юрьевич"
      ],
      "metadata": {
        "id": "QyMVPjzWErHw",
        "colab": {
          "base_uri": "https://localhost:8080/"
        },
        "outputId": "7a1724de-56a9-4b4e-f7dd-d5fca42ff012"
      },
      "execution_count": null,
      "outputs": [
        {
          "output_type": "stream",
          "name": "stdout",
          "text": [
            "Привет студентам!\n"
          ]
        }
      ]
    },
    {
      "cell_type": "markdown",
      "source": [
        "# Основы"
      ],
      "metadata": {
        "id": "HPwKiIA4EKO-"
      }
    },
    {
      "cell_type": "markdown",
      "source": [
        "Задание 1: Напиши программу, выводящую на экран сообщение \"Привет, мир!\""
      ],
      "metadata": {
        "id": "8po5IidFERZ8"
      }
    },
    {
      "cell_type": "code",
      "execution_count": null,
      "metadata": {
        "id": "sBRjlCVLEIQr",
        "colab": {
          "base_uri": "https://localhost:8080/"
        },
        "outputId": "9cea65cb-63e8-4002-8412-eae966953f96"
      },
      "outputs": [
        {
          "output_type": "stream",
          "name": "stdout",
          "text": [
            "Привет, мир!\n"
          ]
        }
      ],
      "source": [
        "print('Привет, мир!')"
      ]
    },
    {
      "cell_type": "markdown",
      "source": [
        "Задание 2: Напиши программу которая запрашивает имя пользователя и выводит сообщение:\n",
        "\n",
        "`Привет, <Имя пользователя>`"
      ],
      "metadata": {
        "id": "pUQIIo94EYLg"
      }
    },
    {
      "cell_type": "code",
      "source": [
        "name = input('Your name is? ')\n",
        "print('Привет, '+name)"
      ],
      "metadata": {
        "id": "nNwHKmAnEinH",
        "colab": {
          "base_uri": "https://localhost:8080/"
        },
        "outputId": "636f735b-3dde-4610-8148-9db518f92aee"
      },
      "execution_count": null,
      "outputs": [
        {
          "output_type": "stream",
          "name": "stdout",
          "text": [
            "Your name is?alex\n",
            "Привет, alex\n"
          ]
        }
      ]
    },
    {
      "cell_type": "markdown",
      "source": [
        "Задание 3: Напиши программу определяющую является ли число четным или нечетным:\n",
        "\n",
        "Пример:\n",
        "\n",
        "`Введите число:` 2\n",
        "\n",
        "`Ваше число четное!`"
      ],
      "metadata": {
        "id": "SAUm9W6_Etkh"
      }
    },
    {
      "cell_type": "code",
      "source": [
        "number = int(input('Введите число: '))\n",
        "if number%2==0:\n",
        "  print('Ваше число чётное!')\n",
        "else:\n",
        "  print('Ваше число нечётное!')"
      ],
      "metadata": {
        "id": "LXv7AIN1E4on",
        "colab": {
          "base_uri": "https://localhost:8080/"
        },
        "outputId": "eb860dd3-60cf-4e10-aa71-d386918b2257"
      },
      "execution_count": null,
      "outputs": [
        {
          "output_type": "stream",
          "name": "stdout",
          "text": [
            "Введите число: 2\n",
            "Ваше число чётное!\n"
          ]
        }
      ]
    },
    {
      "cell_type": "markdown",
      "source": [
        "Задание 4: Напишите программу которая запрашивает длинну и ширину прямоугольника и выводит его площадь:\n",
        "\n",
        "\n",
        "\n",
        "`Введите длинну прямоугольника:`\n",
        "\n",
        "`Введите ширину прямоугольника:`\n",
        "\n",
        "`Площадь прямоугольника: `\n",
        "\n"
      ],
      "metadata": {
        "id": "OW1Y5KyUE_n9"
      }
    },
    {
      "cell_type": "code",
      "source": [
        "length = int(input('Введите длину прямоугольника: '))\n",
        "width = int(input('Введите ширину прямоугльника: '))\n",
        "print('Площадь прямоугольника: '+str(length*width))"
      ],
      "metadata": {
        "id": "Bu5iawknFbXP",
        "colab": {
          "base_uri": "https://localhost:8080/"
        },
        "outputId": "6085595a-0b9f-4a0c-e7bb-7f4d17480ca7"
      },
      "execution_count": null,
      "outputs": [
        {
          "output_type": "stream",
          "name": "stdout",
          "text": [
            "Введите длину прямоугольника: 2\n",
            "Введите ширину прямоугльника: 3\n",
            "Площадь прямоугольника: 6\n"
          ]
        }
      ]
    },
    {
      "cell_type": "markdown",
      "source": [
        "Задание 5: Напишите программу, которая будет вычислять среднее арифметическое введенных чисел"
      ],
      "metadata": {
        "id": "xj8_QNLsFfLw"
      }
    },
    {
      "cell_type": "code",
      "source": [
        "chislo = int(input('Ваше число, неравное нулю. (ноль оканчивает последовательность) '))\n",
        "sum=0\n",
        "sum+=chislo\n",
        "count =1\n",
        "while chislo!=0:\n",
        "  chislo = int(input('Ваше число, неравное нулю. (ноль оканчивает последовательность) '))\n",
        "  count+=1\n",
        "  sum+=chislo\n",
        "print(sum/(count-1))\n"
      ],
      "metadata": {
        "id": "omumX59JFoKw",
        "colab": {
          "base_uri": "https://localhost:8080/"
        },
        "outputId": "54db02ba-74f1-4f0d-c9dc-599a161aa95d"
      },
      "execution_count": null,
      "outputs": [
        {
          "output_type": "stream",
          "name": "stdout",
          "text": [
            "Ваше число, неравное нулю. (ноль оканчивает последовательность) 1\n",
            "Ваше число, неравное нулю. (ноль оканчивает последовательность) 1\n",
            "Ваше число, неравное нулю. (ноль оканчивает последовательность) 2\n",
            "Ваше число, неравное нулю. (ноль оканчивает последовательность) 2\n",
            "Ваше число, неравное нулю. (ноль оканчивает последовательность) 0\n",
            "1.5\n"
          ]
        }
      ]
    },
    {
      "cell_type": "markdown",
      "source": [
        "Задание 6: Напиши программу, которая бы определяла является ли год високосным"
      ],
      "metadata": {
        "id": "qHXcBMUJcP91"
      }
    },
    {
      "cell_type": "code",
      "source": [
        "year = int(input('Впишите ваш год: '))\n",
        "if year%4==0:\n",
        "  if year%100==0:\n",
        "    if year%400==0:\n",
        "      print('Год високосный.')\n",
        "    else:\n",
        "      print('Год не високосный.')\n",
        "  else:\n",
        "    print('Год високосный')\n",
        "else:\n",
        "  print('Год не високосный')\n"
      ],
      "metadata": {
        "id": "5zIg47mwcKKr",
        "colab": {
          "base_uri": "https://localhost:8080/"
        },
        "outputId": "22659d56-5d3a-4139-9cf5-46cf8dbbe28c"
      },
      "execution_count": null,
      "outputs": [
        {
          "output_type": "stream",
          "name": "stdout",
          "text": [
            "Впишите ваш год: 1666\n",
            "Год не високосный\n"
          ]
        }
      ]
    },
    {
      "cell_type": "markdown",
      "source": [
        "Задание 7: Необходимо создать простой калькулятор, который позволяет пользователю выбрать одну из четырёх операций (+, -, *, /), ввести два числа и получить результат выполнения операции."
      ],
      "metadata": {
        "id": "CYaQ69kucdhj"
      }
    },
    {
      "cell_type": "code",
      "source": [
        "first_number = int(input('Введите 1-ое число: '))\n",
        "second_number = int(input('Введите 2-ое число: '))\n",
        "operation = input('Введите знак операции: ')\n",
        "operations = '-+*/'\n",
        "if operation in operations:\n",
        "  if operation=='-':\n",
        "    print(first_number-second_number)\n",
        "  elif operation=='+':\n",
        "    print(first_number+second_number)\n",
        "  elif operation=='*':\n",
        "    print(first_number*second_number)\n",
        "  elif (operation=='/') and (first_number!=0 and second_number!=0):\n",
        "    print(first_number/second_number)\n",
        "  else:\n",
        "    print('Невозможная операция.')\n",
        "else:\n",
        "  print('Неправильный знак операции.')"
      ],
      "metadata": {
        "id": "wR5UyEf7ciIE",
        "colab": {
          "base_uri": "https://localhost:8080/"
        },
        "outputId": "bada39b1-20c9-49c8-a928-0c03b0f54ea4"
      },
      "execution_count": null,
      "outputs": [
        {
          "output_type": "stream",
          "name": "stdout",
          "text": [
            "Введите 1-ое число: 0\n",
            "Введите 2-ое число: 1\n",
            "Введите знак операции: /\n",
            "Невозможная операция.\n"
          ]
        }
      ]
    },
    {
      "cell_type": "markdown",
      "source": [
        "--------------------------------------------------------------------------------\n",
        "\n",
        "**Да, задания ниже тоже обязательны, вам необходимо выполнить веееееесь файл**\n",
        "\n",
        "--------------------------------------------------------------------------------\n"
      ],
      "metadata": {
        "id": "PcJ66hI-vAlk"
      }
    },
    {
      "cell_type": "markdown",
      "source": [
        "# Практика 0.2.1"
      ],
      "metadata": {
        "id": "XWBhGpdEFo-U"
      }
    },
    {
      "cell_type": "markdown",
      "source": [
        "**Шахматы**\n",
        "\n",
        "Даны стартовые и конечные координаты, а также фигура\n",
        "\n",
        "Необходимо определить, может ли заданная фигура так ходить?"
      ],
      "metadata": {
        "id": "9Lw9odpqFwtn"
      }
    },
    {
      "cell_type": "code",
      "source": [
        "xy1 = int(input('Первые коорды '))\n",
        "xy2 = int(input('Вторые коорды '))\n",
        "figure = input('Ваша фигура: ')\n",
        "if figure=='Король':\n",
        "  if (abs(xy1-xy2)==11) or (abs(xy1-xy2)==10) or (abs(xy1-xy2)==9)or (abs(xy1-xy2)==1):\n",
        "    print('Координаты верны.')\n",
        "  else:\n",
        "    print('Координаты не верны.')\n",
        "elif figure=='Ферзь':\n",
        "  if (abs(xy1-xy2)%11==0) or (abs(xy1-xy2)%10==0) or (abs(xy1-xy2)%9==0)or (abs(xy1-xy2)==1):\n",
        "    print('Координаты верны.')\n",
        "  else:\n",
        "    print('Координаты не верны.')\n",
        "elif figure=='Ладья':\n",
        "  if (abs(xy1-xy2)%10==0)or (abs(xy1-xy2)==1):\n",
        "    print('Координаты верны.')\n",
        "  else:\n",
        "    print('Координаты не верны.')\n",
        "elif figure=='Слон':\n",
        "  if (abs(xy1-xy2)%11==0)or(abs(xy1-xy2)%9==0):\n",
        "    print('Координаты верны.')\n",
        "  else:\n",
        "    print('Координаты не верны.')\n",
        "elif figure=='Конь':\n",
        "  if (abs(xy1-xy2)%7==0)or(abs(xy1-xy2)%21==0)or(abs(xy1-xy2)%13==0)or(abs(xy1-xy2)%19==0):\n",
        "    print('Координаты верны.')\n",
        "  else:\n",
        "    print('Координаты не верны.')\n",
        "elif figure=='Пешка':\n",
        "  if (abs(xy1-xy2)==1):\n",
        "    print('Координаты верны.')\n",
        "  else:\n",
        "    print('Координаты не верны.')\n"
      ],
      "metadata": {
        "id": "9IICo0p3F07P",
        "colab": {
          "base_uri": "https://localhost:8080/"
        },
        "outputId": "b629df87-b131-497e-c938-bba3f782cf56"
      },
      "execution_count": null,
      "outputs": [
        {
          "output_type": "stream",
          "name": "stdout",
          "text": [
            "Первые коорды 81\n",
            "Вторые коорды 88\n",
            "Ваша фигура: Ферзь\n",
            "Координаты не верны.\n"
          ]
        }
      ]
    },
    {
      "cell_type": "markdown",
      "source": [
        "# Практика 0.2.2\n",
        "\n",
        "**Цифра на определенном месте:**\n",
        "\n",
        "Последовательно записан натуральный ряд чисел.\n",
        "\n",
        "Какая цифра стоит в N позиции"
      ],
      "metadata": {
        "id": "wI5bLNpHGDmO"
      }
    },
    {
      "cell_type": "code",
      "source": [
        "chisla = input('Введите ряд чисел через пробел: ').split(' ')\n",
        "sum=''\n",
        "for i in chisla:\n",
        "  sum+=i\n",
        "\n",
        "n_pos = int(input('Введите позицию: '))\n",
        "print(sum[n_pos-1])"
      ],
      "metadata": {
        "id": "XLm_zFGzGNsU",
        "colab": {
          "base_uri": "https://localhost:8080/"
        },
        "outputId": "613d3e44-1c5c-4a98-f808-bc388e54cb24"
      },
      "execution_count": null,
      "outputs": [
        {
          "output_type": "stream",
          "name": "stdout",
          "text": [
            "Введите ряд чисел через пробел: 1 2 3 4 5 6 7 8 9 10 444 576\n",
            "Введите позицию: 16\n",
            "7\n"
          ]
        }
      ]
    },
    {
      "cell_type": "markdown",
      "source": [
        "# Практика 0.2.3\n",
        "\n",
        "\n",
        "Возьмите код из задания 7 и улучшите ваш калькулятор следующим образом:\n",
        "\n",
        "Пользователь вводит строку вида:\n",
        "\n",
        "(5+5)*5 - данная строка содержит в себе математическое выражение, а также скобки\n",
        "\n",
        "Ваша программа должная понять что за математическое выражение записано, проверить верно ли оно записано (пример неверного заполнения: (5(+)5)*5, а также расчитать его в соотвествии с правилами математики"
      ],
      "metadata": {
        "id": "dpxTJv-scnMy"
      }
    },
    {
      "cell_type": "code",
      "source": [
        "\n",
        "operations = '-+*/'\n",
        "if operation in operations:\n",
        "  if operation=='-':\n",
        "    print(first_number-second_number)\n",
        "  elif operation=='+':\n",
        "    print(first_number+second_number)\n",
        "  elif operation=='*':\n",
        "    print(first_number*second_number)\n",
        "  elif (operation=='/') and (first_number!=0 and second_number!=0):\n",
        "    print(first_number/second_number)\n",
        "  else:\n",
        "    print('Невозможная операция.')\n",
        "else:\n",
        "  print('Неправильный знак операции.')"
      ],
      "metadata": {
        "id": "18gOluyHcmmf"
      },
      "execution_count": null,
      "outputs": []
    }
  ]
}
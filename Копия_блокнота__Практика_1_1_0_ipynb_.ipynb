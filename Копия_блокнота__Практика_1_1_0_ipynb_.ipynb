{
  "nbformat": 4,
  "nbformat_minor": 0,
  "metadata": {
    "colab": {
      "provenance": []
    },
    "kernelspec": {
      "name": "python3",
      "display_name": "Python 3"
    },
    "language_info": {
      "name": "python"
    }
  },
  "cells": [
    {
      "cell_type": "markdown",
      "source": [
        "**ФИО:**"
      ],
      "metadata": {
        "id": "GEsFKJm-ABFp"
      }
    },
    {
      "cell_type": "code",
      "execution_count": null,
      "metadata": {
        "id": "wZMLYG_G_-19"
      },
      "outputs": [],
      "source": [
        "Чикин Алексей Юрьевич"
      ]
    },
    {
      "cell_type": "markdown",
      "source": [
        "# Задание 1"
      ],
      "metadata": {
        "id": "H4DrYnJjADuZ"
      }
    },
    {
      "cell_type": "markdown",
      "source": [
        "**Описание:** Создайте иерархию классов для разных типов сотрудников в компании. Реализуйте родительский класс Employee и дочерние классы Manager и Developer. Каждый класс должен иметь метод для расчета зарплаты на основе различных критериев класса.\n",
        "\n",
        "\n",
        "Отрабатываемый принцип: Наследование\n",
        "\n"
      ],
      "metadata": {
        "id": "C17FWep-AF4a"
      }
    },
    {
      "cell_type": "code",
      "source": [
        "class Employee():\n",
        "    working_days = 7\n",
        "    working_hours = 12\n",
        "    post = 1\n",
        "\n",
        "\n",
        "class Manager(Employee):\n",
        "    working_days = 5\n",
        "    working_hours = 7\n",
        "    post = 3\n",
        "\n",
        "\n",
        "    def salary_calculating(self):\n",
        "      salary = self.working_days * self.working_hours * self.post * 1000\n",
        "      print(salary)\n",
        "\n",
        "\n",
        "class Developer(Employee):\n",
        "    working_days = 6\n",
        "    working_hours = 10\n",
        "    post = 2\n",
        "\n",
        "\n",
        "    def salary_calculating(self):\n",
        "      salary = self.working_days * self.working_hours * self.post * 1000\n",
        "      print(salary)\n",
        "\n",
        "\n",
        "empl_manager = Manager()\n",
        "empl_developer = Developer()\n",
        "\n",
        "empl_manager.salary_calculating()\n",
        "empl_developer.salary_calculating()"
      ],
      "metadata": {
        "id": "aexGXzqCAFH7",
        "colab": {
          "base_uri": "https://localhost:8080/"
        },
        "outputId": "34c39664-6a30-453e-d942-957dee2f3119"
      },
      "execution_count": 5,
      "outputs": [
        {
          "output_type": "stream",
          "name": "stdout",
          "text": [
            "105000\n",
            "120000\n"
          ]
        }
      ]
    },
    {
      "cell_type": "markdown",
      "source": [
        "# Задание 2"
      ],
      "metadata": {
        "id": "ERAi0TG5BI6v"
      }
    },
    {
      "cell_type": "markdown",
      "source": [
        "**Описание:** Создайте иерархию классов для различных типов транспортных средств (Необходим один родительский класс и 3 дочерних). Реализуйте метод, который позволяет каждому транспортному средству возвращать собственное описание (Метод в каждом классе должен иметь одинаковое название). Продемонстрируйте вызов данного метода для каждого транспортного средства.\n",
        "\n",
        "\n",
        "Отрабатываемый принцип: Полиморфизм"
      ],
      "metadata": {
        "id": "sJ3k7ZcgBK87"
      }
    },
    {
      "cell_type": "code",
      "source": [
        "class Transport():\n",
        "    wheels_count = 4\n",
        "    max_speed = 100\n",
        "    color = 'black'\n",
        "    company = 'company'\n",
        "    seats_number = 4\n",
        "    name = 'transport'\n",
        "\n",
        "\n",
        "class Motorcycle(Transport):\n",
        "    wheels_count = 2\n",
        "    max_speed = 200\n",
        "    color = 'yellow'\n",
        "    company = 'Yamaha'\n",
        "    seats_number = 1\n",
        "    t_type = 'Motorbike'\n",
        "\n",
        "\n",
        "    def description(self):\n",
        "      print((f'This is a {self.color} {self.company} {self.t_type}, '\n",
        "      f'which has only {self.wheels_count} wheels. Its maximum speed is '\n",
        "       f'{self.max_speed} km/h. And of course, {self.seats_number} person can '\n",
        "             'sit on it.'))\n",
        "      print()\n",
        "\n",
        "\n",
        "class Car(Transport):\n",
        "    wheels_count = 4\n",
        "    max_speed = 150\n",
        "    color = 'black'\n",
        "    company = 'BMW'\n",
        "    seats_number = 5\n",
        "    t_type = 'Car'\n",
        "\n",
        "\n",
        "    def description(self):\n",
        "      print((f'This is a {self.color} {self.company} {self.t_type}, '\n",
        "      f'which has only {self.wheels_count} wheels. Its maximum speed is '\n",
        "       f'{self.max_speed} km/h. And of course, it can accommodate '\n",
        "       f'{self.seats_number} people.'))\n",
        "      print()\n",
        "\n",
        "\n",
        "class Plane(Transport):\n",
        "    wheels_count = 6\n",
        "    max_speed = 890\n",
        "    color = 'white'\n",
        "    company = 'Airbus'\n",
        "    seats_number = 185\n",
        "    t_type = 'Plane'\n",
        "\n",
        "\n",
        "    def description(self):\n",
        "      print((f'This is a {self.color} {self.company} {self.t_type}, '\n",
        "      f'which has only {self.wheels_count} wheels. Its maximum speed is '\n",
        "       f'{self.max_speed} km/h. And of course, it can accommodate '\n",
        "       f'{self.seats_number} people.'))\n",
        "      print()\n",
        "\n",
        "\n",
        "transport_1 = Motorcycle()\n",
        "transport_2 = Car()\n",
        "transport_3 = Plane()\n",
        "\n",
        "transport_1.description()\n",
        "transport_2.description()\n",
        "transport_3.description()"
      ],
      "metadata": {
        "id": "WOFOZQmDBKf4",
        "colab": {
          "base_uri": "https://localhost:8080/"
        },
        "outputId": "3837cbcd-a681-417b-8c07-50add19cff7d"
      },
      "execution_count": 13,
      "outputs": [
        {
          "output_type": "stream",
          "name": "stdout",
          "text": [
            "This is a yellow Yamaha Motorbike, which has only 2 wheels. Its maximum speed is 200 km/h. And of course, 1 person can sit on it.\n",
            "\n",
            "This is a black BMW Car, which has only 4 wheels. Its maximum speed is 150 km/h. And of course, it can accommodate 5  people.\n",
            "\n",
            "This is a white Airbus Plane, which has only 6 wheels. Its maximum speed is 890 km/h. And of course, it can accommodate 185  people.\n",
            "\n"
          ]
        }
      ]
    },
    {
      "cell_type": "markdown",
      "source": [
        "# Задание 3"
      ],
      "metadata": {
        "id": "7E_SJXMJBvD4"
      }
    },
    {
      "cell_type": "markdown",
      "source": [
        "Онлайн-магазин:\n",
        "- Создайте модель для онлайн-магазина с классами Product, Order, Customer, и ShoppingCart.\n",
        "- Product включает информацию о цене, наличии на складе и категории товара.\n",
        "Order обрабатывает процесс покупки, включая расчет цены с учетом скидок и налогов.\n",
        "- Customer управляет информацией о пользователе и его истории заказов.\n",
        "- ShoppingCart позволяет добавлять, удалять и обновлять количество товаров перед оформлением заказа.\n"
      ],
      "metadata": {
        "id": "dd1mwKj_BxHa"
      }
    },
    {
      "cell_type": "code",
      "source": [
        "class Product:\n",
        "\n",
        "\n",
        "    def __init__(self, name, price, stock, category):\n",
        "      self.name = name\n",
        "      self.price = price\n",
        "      self.stock = stock\n",
        "      self.category = category\n",
        "\n",
        "\n",
        "class Order:\n",
        "\n",
        "\n",
        "    def __init__(self, customer, products):\n",
        "      self.customer = customer\n",
        "      self.products = products\n",
        "\n",
        "\n",
        "    def calculate_total(self):\n",
        "      total = 0\n",
        "      for product, quantity in self.products.items():\n",
        "        total += product.price * quantity * 1.13 * (1 - self.customer.customer_discount)\n",
        "      return round(total, 2)\n",
        "\n",
        "\n",
        "    def buying(self):\n",
        "        self.customer.order_history.append(self)\n",
        "        for product, quantity in self.products.items():\n",
        "            product.stock -= quantity\n",
        "\n",
        "        total_price = self.calculate_total()\n",
        "\n",
        "        self.products = {}\n",
        "        print(f'Thank you for your purchase! The price was {total_price} rubles.')\n",
        "\n",
        "\n",
        "class Customer:\n",
        "\n",
        "\n",
        "    def __init__(self, name):\n",
        "      self.name = name\n",
        "      self.order_history = []\n",
        "      self.customer_discount = 0.25\n",
        "\n",
        "\n",
        "    def place_order(self, order):\n",
        "      self.order_history.append(order)\n",
        "\n",
        "\n",
        "class ShoppingCart:\n",
        "\n",
        "\n",
        "    def __init__(self):\n",
        "      self.products = {}\n",
        "\n",
        "\n",
        "    def add_product(self, product, quantity=1):\n",
        "      if product in self.products:\n",
        "        self.products[product] += quantity\n",
        "      else:\n",
        "        self.products[product] = quantity\n",
        "\n",
        "\n",
        "    def remove_product(self, product, quantity=1):\n",
        "      if product in self.products:\n",
        "        if self.products[product] <= quantity:\n",
        "          del self.products[product]\n",
        "        else:\n",
        "          self.products[product] -= quantity\n",
        "      else:\n",
        "        print(f'Product {product.name} is not in the cart.')\n",
        "\n",
        "\n",
        "    def cart_checking(self):\n",
        "        if len(self.products) > 0:\n",
        "            print('Products in your cart:')\n",
        "            for product, quantity in self.products.items():\n",
        "                print(f'- {product.name}: {quantity}')\n",
        "        else:\n",
        "            print('Your cart is empty')\n",
        "\n",
        "\n",
        "def main():\n",
        "  print('Welcome to the online store!')\n",
        "  product1 = Product(\"Apple\", 1.0, 100, \"Fruits\")\n",
        "  product2 = Product(\"Banana\", 0.5, 50, \"Fruits\")\n",
        "  customer = Customer(\"Alex\")\n",
        "  shopping_cart = ShoppingCart()\n",
        "  order = Order(customer, shopping_cart.products)\n",
        "\n",
        "  while True:\n",
        "    qu1 = int(input(f'Hello, {customer.name}! What would you like to do?\\n'\n",
        "    '1. Place order.\\n 2. Add something to cart.\\n 3. Check your cart.\\n 4. '\n",
        "    'Remove som from the cart.'))\n",
        "    if qu1 == 1:\n",
        "      order.buying()\n",
        "    elif qu1 == 2:\n",
        "      print('Available products:')\n",
        "      print(f'1. {product1.name} - {product1.price} rubles.')\n",
        "      print(f'2. {product2.name} - {product2.price} rubles.')\n",
        "      qu2 = int(input('Which product would you like to add to your cart?'))\n",
        "      if qu2 == 1:\n",
        "        qu3 = int(input('How many would you like to add?'))\n",
        "        if qu3 <= product1.stock:\n",
        "            shopping_cart.add_product(product1,qu3)\n",
        "        else:\n",
        "            print('Not enough stock')\n",
        "\n",
        "      elif qu2 == 2:\n",
        "        qu3 = int(input('How many would you like to add?'))\n",
        "        if qu3 <= product2.stock:\n",
        "            shopping_cart.add_product(product2,qu3)\n",
        "        else:\n",
        "            print('Not enough stock')\n",
        "    elif qu1 == 3:\n",
        "      shopping_cart.cart_checking()\n",
        "    elif qu1 == 4:\n",
        "      qu2 = int(input('Which product would you like to remove from your cart?'))\n",
        "      if qu2 == 1:\n",
        "        shopping_cart.remove_product(product1)\n",
        "      elif qu2 == 2:\n",
        "        shopping_cart.remove_product(product2)\n",
        "\n",
        "    elif qu1 == 'Nothing':\n",
        "      break\n",
        "    else:\n",
        "      print('Wrong input')\n",
        "    customer.place_order(order)\n",
        "\n",
        "\n",
        "if __name__ == \"__main__\":\n",
        "  main()"
      ],
      "metadata": {
        "colab": {
          "base_uri": "https://localhost:8080/",
          "height": 787
        },
        "id": "rY6QkF-ha0-8",
        "outputId": "7aa6fbc3-2d7e-4bad-8396-9dbb9249b399"
      },
      "execution_count": 20,
      "outputs": [
        {
          "output_type": "stream",
          "name": "stdout",
          "text": [
            "Welcome to the online store!\n",
            "Hello, Alex! What would you like to do?\n",
            "1. Place order.\n",
            " 2. Add something to cart.\n",
            " 3. Check your cart.\n",
            " 4. Remove som from the cart.2\n",
            "Available products:\n",
            "1. Apple - 1.0 rubles.\n",
            "2. Banana - 0.5 rubles.\n",
            "Which product would you like to add to your cart?1\n",
            "How many would you like to add?55\n",
            "Hello, Alex! What would you like to do?\n",
            "1. Place order.\n",
            " 2. Add something to cart.\n",
            " 3. Check your cart.\n",
            " 4. Remove som from the cart.3\n",
            "Products in your cart:\n",
            "- Apple: 55\n",
            "Hello, Alex! What would you like to do?\n",
            "1. Place order.\n",
            " 2. Add something to cart.\n",
            " 3. Check your cart.\n",
            " 4. Remove som from the cart.1\n",
            "Thank you for your purchase! The price was 46.61 rubles.\n"
          ]
        },
        {
          "output_type": "error",
          "ename": "KeyboardInterrupt",
          "evalue": "Interrupted by user",
          "traceback": [
            "\u001b[0;31m---------------------------------------------------------------------------\u001b[0m",
            "\u001b[0;31mKeyboardInterrupt\u001b[0m                         Traceback (most recent call last)",
            "\u001b[0;32m<ipython-input-20-3a1b26269b09>\u001b[0m in \u001b[0;36m<cell line: 131>\u001b[0;34m()\u001b[0m\n\u001b[1;32m    130\u001b[0m \u001b[0;34m\u001b[0m\u001b[0m\n\u001b[1;32m    131\u001b[0m \u001b[0;32mif\u001b[0m \u001b[0m__name__\u001b[0m \u001b[0;34m==\u001b[0m \u001b[0;34m\"__main__\"\u001b[0m\u001b[0;34m:\u001b[0m\u001b[0;34m\u001b[0m\u001b[0;34m\u001b[0m\u001b[0m\n\u001b[0;32m--> 132\u001b[0;31m   \u001b[0mmain\u001b[0m\u001b[0;34m(\u001b[0m\u001b[0;34m)\u001b[0m\u001b[0;34m\u001b[0m\u001b[0;34m\u001b[0m\u001b[0m\n\u001b[0m",
            "\u001b[0;32m<ipython-input-20-3a1b26269b09>\u001b[0m in \u001b[0;36mmain\u001b[0;34m()\u001b[0m\n\u001b[1;32m     90\u001b[0m \u001b[0;34m\u001b[0m\u001b[0m\n\u001b[1;32m     91\u001b[0m   \u001b[0;32mwhile\u001b[0m \u001b[0;32mTrue\u001b[0m\u001b[0;34m:\u001b[0m\u001b[0;34m\u001b[0m\u001b[0;34m\u001b[0m\u001b[0m\n\u001b[0;32m---> 92\u001b[0;31m     qu1 = int(input(f'Hello, {customer.name}! What would you like to do?\\n'\n\u001b[0m\u001b[1;32m     93\u001b[0m     \u001b[0;34m'1. Place order.\\n 2. Add something to cart.\\n 3. Check your cart.\\n 4. '\u001b[0m\u001b[0;34m\u001b[0m\u001b[0;34m\u001b[0m\u001b[0m\n\u001b[1;32m     94\u001b[0m     'Remove som from the cart.'))\n",
            "\u001b[0;32m/usr/local/lib/python3.10/dist-packages/ipykernel/kernelbase.py\u001b[0m in \u001b[0;36mraw_input\u001b[0;34m(self, prompt)\u001b[0m\n\u001b[1;32m    849\u001b[0m                 \u001b[0;34m\"raw_input was called, but this frontend does not support input requests.\"\u001b[0m\u001b[0;34m\u001b[0m\u001b[0;34m\u001b[0m\u001b[0m\n\u001b[1;32m    850\u001b[0m             )\n\u001b[0;32m--> 851\u001b[0;31m         return self._input_request(str(prompt),\n\u001b[0m\u001b[1;32m    852\u001b[0m             \u001b[0mself\u001b[0m\u001b[0;34m.\u001b[0m\u001b[0m_parent_ident\u001b[0m\u001b[0;34m,\u001b[0m\u001b[0;34m\u001b[0m\u001b[0;34m\u001b[0m\u001b[0m\n\u001b[1;32m    853\u001b[0m             \u001b[0mself\u001b[0m\u001b[0;34m.\u001b[0m\u001b[0m_parent_header\u001b[0m\u001b[0;34m,\u001b[0m\u001b[0;34m\u001b[0m\u001b[0;34m\u001b[0m\u001b[0m\n",
            "\u001b[0;32m/usr/local/lib/python3.10/dist-packages/ipykernel/kernelbase.py\u001b[0m in \u001b[0;36m_input_request\u001b[0;34m(self, prompt, ident, parent, password)\u001b[0m\n\u001b[1;32m    893\u001b[0m             \u001b[0;32mexcept\u001b[0m \u001b[0mKeyboardInterrupt\u001b[0m\u001b[0;34m:\u001b[0m\u001b[0;34m\u001b[0m\u001b[0;34m\u001b[0m\u001b[0m\n\u001b[1;32m    894\u001b[0m                 \u001b[0;31m# re-raise KeyboardInterrupt, to truncate traceback\u001b[0m\u001b[0;34m\u001b[0m\u001b[0;34m\u001b[0m\u001b[0m\n\u001b[0;32m--> 895\u001b[0;31m                 \u001b[0;32mraise\u001b[0m \u001b[0mKeyboardInterrupt\u001b[0m\u001b[0;34m(\u001b[0m\u001b[0;34m\"Interrupted by user\"\u001b[0m\u001b[0;34m)\u001b[0m \u001b[0;32mfrom\u001b[0m \u001b[0;32mNone\u001b[0m\u001b[0;34m\u001b[0m\u001b[0;34m\u001b[0m\u001b[0m\n\u001b[0m\u001b[1;32m    896\u001b[0m             \u001b[0;32mexcept\u001b[0m \u001b[0mException\u001b[0m \u001b[0;32mas\u001b[0m \u001b[0me\u001b[0m\u001b[0;34m:\u001b[0m\u001b[0;34m\u001b[0m\u001b[0;34m\u001b[0m\u001b[0m\n\u001b[1;32m    897\u001b[0m                 \u001b[0mself\u001b[0m\u001b[0;34m.\u001b[0m\u001b[0mlog\u001b[0m\u001b[0;34m.\u001b[0m\u001b[0mwarning\u001b[0m\u001b[0;34m(\u001b[0m\u001b[0;34m\"Invalid Message:\"\u001b[0m\u001b[0;34m,\u001b[0m \u001b[0mexc_info\u001b[0m\u001b[0;34m=\u001b[0m\u001b[0;32mTrue\u001b[0m\u001b[0;34m)\u001b[0m\u001b[0;34m\u001b[0m\u001b[0;34m\u001b[0m\u001b[0m\n",
            "\u001b[0;31mKeyboardInterrupt\u001b[0m: Interrupted by user"
          ]
        }
      ]
    },
    {
      "cell_type": "markdown",
      "source": [
        "# Задание 4"
      ],
      "metadata": {
        "id": "ih7iPlYfB7lL"
      }
    },
    {
      "cell_type": "markdown",
      "source": [
        "Симулятор космического корабля:\n",
        "- Создайте симулятор управления космическим кораблем с классами SpaceShip, CrewMember, и Mission.\n",
        "- SpaceShip имеет атрибуты для управления топливом, состоянием корпуса, и текущей скоростью.\n",
        "- CrewMember контролирует здоровье, навыки, и роли в команде (например, пилот, инженер).\n",
        "- Mission определяет цели, ресурсы, и возможные события (например, аварии, встречи с астероидами)."
      ],
      "metadata": {
        "id": "zLwqVCbpCBvc"
      }
    },
    {
      "cell_type": "code",
      "source": [
        "import random\n",
        "\n",
        "class SpaceShip:\n",
        "\n",
        "\n",
        "    def __init__(self, fuel, hull_integrity, current_speed):\n",
        "        self.fuel = fuel\n",
        "        self.hull_integrity = hull_integrity\n",
        "        self.current_speed = current_speed\n",
        "\n",
        "\n",
        "    def update_fuel(self, amount):\n",
        "        self.fuel += amount\n",
        "        if self.fuel < 0:\n",
        "            self.fuel = 0\n",
        "            print(\"Fuel is empty!\")\n",
        "\n",
        "\n",
        "    def update_hull(self, damage):\n",
        "        self.hull_integrity -= damage\n",
        "        if self.hull_integrity <= 0:\n",
        "            print(\"Hull is compromised! Ship is destroyed!\")\n",
        "\n",
        "\n",
        "    def update_speed(self, change):\n",
        "        self.current_speed += change\n",
        "        if self.current_speed < 0:\n",
        "            self.current_speed = 0\n",
        "\n",
        "\n",
        "class CrewMember:\n",
        "\n",
        "\n",
        "    def __init__(self, name, health, skills, role):\n",
        "        self.name = name\n",
        "        self.health = health\n",
        "        self.skills = skills\n",
        "        self.role = role\n",
        "\n",
        "\n",
        "class Mission:\n",
        "\n",
        "\n",
        "    def __init__(self, objectives, resources, events, ship):\n",
        "        self.objectives = objectives\n",
        "        self.resources = resources\n",
        "        self.events = events\n",
        "        self.ship = ship\n",
        "\n",
        "\n",
        "    def generate_event(self):\n",
        "      if random.random() < 0.2:\n",
        "        event = random.choice(self.events)\n",
        "        print(f\"Event: {event}\")\n",
        "        if event == \"Asteroid field\":\n",
        "          return random.randint(1,50)\n",
        "        elif event == \"Hull breach\":\n",
        "          return random.randint(1,50)\n",
        "        else:\n",
        "          return 0\n",
        "      else:\n",
        "        return 0\n",
        "\n",
        "\n",
        "def main():\n",
        "    ship = SpaceShip(100, 100, 0)\n",
        "    crew = [CrewMember(\"Alex\", 100, [\"Pilot\"], \"Pilot\")]\n",
        "    mission = Mission([\"Reach Planet X\"], {\"Fuel\": 50}, [\"Asteroid field\", \"Hull breach\"],ship)\n",
        "\n",
        "    while True:\n",
        "        print(\"\\nCurrent status:\")\n",
        "        print(f\"Fuel: {ship.fuel}\")\n",
        "        print(f\"Hull integrity: {ship.hull_integrity}\")\n",
        "        print(f\"Current speed: {ship.current_speed}\")\n",
        "\n",
        "        command = input(\"Enter a command (accelerate, decelerate, refuel, check_status, end_mission): \")\n",
        "\n",
        "        event_damage = mission.generate_event()\n",
        "        ship.update_hull(event_damage)\n",
        "\n",
        "        if command == \"accelerate\":\n",
        "            ship.update_speed(10)\n",
        "            ship.update_fuel(-5)\n",
        "            if ship.fuel == 0:\n",
        "                print(\"Fuel is empty!\")\n",
        "                print(\"Mission failed! You dont reach a planet.\")\n",
        "                print(\"Final status:\")\n",
        "                print('Dead.')\n",
        "                print(f\"Fuel: {ship.fuel}\")\n",
        "                print(f\"Hull integrity: {ship.hull_integrity}\")\n",
        "\n",
        "                break\n",
        "            mission.generate_event()\n",
        "\n",
        "        elif command == \"decelerate\":\n",
        "            ship.update_speed(-10)\n",
        "            ship.update_fuel(-5)\n",
        "            if ship.fuel == 0:\n",
        "                print(\"Fuel is empty!\")\n",
        "                print(\"Mission failed! You dont reach a planet.\")\n",
        "                print(\"Final status:\")\n",
        "                print('Dead.')\n",
        "                print(f\"Fuel: {ship.fuel}\")\n",
        "                print(f\"Hull integrity: {ship.hull_integrity}\")\n",
        "\n",
        "                break\n",
        "            mission.generate_event()\n",
        "\n",
        "        elif command == \"refuel\":\n",
        "            ship.update_fuel(20)\n",
        "            if ship.fuel == 100:\n",
        "                print(\"Fuel is full!\")\n",
        "\n",
        "        elif command == \"check_status\":\n",
        "            ship.update_fuel(-5)\n",
        "            if ship.fuel == 0:\n",
        "                print(\"Fuel is empty!\")\n",
        "\n",
        "                break\n",
        "            mission.generate_event()\n",
        "\n",
        "        elif command == \"end_mission\":\n",
        "            print(\"Mission failed! You dont reach a planet.\")\n",
        "            print(\"Final status:\")\n",
        "            print('Alive.')\n",
        "            print(f\"Fuel: {ship.fuel}\")\n",
        "            print(f\"Hull integrity: {ship.hull_integrity}\")\n",
        "            break\n",
        "        else:\n",
        "            print(\"Invalid command.\")\n",
        "\n",
        "\n",
        "if __name__ == \"__main__\":\n",
        "    main()"
      ],
      "metadata": {
        "id": "4NyrOOy8B9ED",
        "colab": {
          "base_uri": "https://localhost:8080/",
          "height": 1000
        },
        "outputId": "72054571-24f5-42ce-c90d-126fe2e45700"
      },
      "execution_count": 27,
      "outputs": [
        {
          "output_type": "stream",
          "name": "stdout",
          "text": [
            "\n",
            "Current status:\n",
            "Fuel: 100\n",
            "Hull integrity: 100\n",
            "Current speed: 0\n",
            "Enter a command (accelerate, decelerate, refuel, check_status, end_mission): accelerate\n",
            "Event: Hull breach\n",
            "\n",
            "Current status:\n",
            "Fuel: 95\n",
            "Hull integrity: 100\n",
            "Current speed: 10\n",
            "Enter a command (accelerate, decelerate, refuel, check_status, end_mission): accelerate\n",
            "\n",
            "Current status:\n",
            "Fuel: 90\n",
            "Hull integrity: 100\n",
            "Current speed: 20\n",
            "Enter a command (accelerate, decelerate, refuel, check_status, end_mission): accelerate\n",
            "\n",
            "Current status:\n",
            "Fuel: 85\n",
            "Hull integrity: 100\n",
            "Current speed: 30\n",
            "Enter a command (accelerate, decelerate, refuel, check_status, end_mission): accelerate\n",
            "\n",
            "Current status:\n",
            "Fuel: 80\n",
            "Hull integrity: 100\n",
            "Current speed: 40\n",
            "Enter a command (accelerate, decelerate, refuel, check_status, end_mission): accelerate\n",
            "\n",
            "Current status:\n",
            "Fuel: 75\n",
            "Hull integrity: 100\n",
            "Current speed: 50\n",
            "Enter a command (accelerate, decelerate, refuel, check_status, end_mission): accelerate\n",
            "Event: Hull breach\n",
            "\n",
            "Current status:\n",
            "Fuel: 70\n",
            "Hull integrity: 66\n",
            "Current speed: 60\n",
            "Enter a command (accelerate, decelerate, refuel, check_status, end_mission): accelerate\n",
            "\n",
            "Current status:\n",
            "Fuel: 65\n",
            "Hull integrity: 66\n",
            "Current speed: 70\n",
            "Enter a command (accelerate, decelerate, refuel, check_status, end_mission): accelerate\n",
            "Event: Asteroid field\n",
            "\n",
            "Current status:\n",
            "Fuel: 60\n",
            "Hull integrity: 66\n",
            "Current speed: 80\n",
            "Enter a command (accelerate, decelerate, refuel, check_status, end_mission): accelerate\n",
            "\n",
            "Current status:\n",
            "Fuel: 55\n",
            "Hull integrity: 66\n",
            "Current speed: 90\n",
            "Enter a command (accelerate, decelerate, refuel, check_status, end_mission): accelerate\n",
            "\n",
            "Current status:\n",
            "Fuel: 50\n",
            "Hull integrity: 66\n",
            "Current speed: 100\n",
            "Enter a command (accelerate, decelerate, refuel, check_status, end_mission): accelerate\n",
            "Event: Hull breach\n",
            "\n",
            "Current status:\n",
            "Fuel: 45\n",
            "Hull integrity: 59\n",
            "Current speed: 110\n",
            "Enter a command (accelerate, decelerate, refuel, check_status, end_mission): accelerate\n",
            "\n",
            "Current status:\n",
            "Fuel: 40\n",
            "Hull integrity: 59\n",
            "Current speed: 120\n"
          ]
        },
        {
          "output_type": "error",
          "ename": "KeyboardInterrupt",
          "evalue": "Interrupted by user",
          "traceback": [
            "\u001b[0;31m---------------------------------------------------------------------------\u001b[0m",
            "\u001b[0;31mKeyboardInterrupt\u001b[0m                         Traceback (most recent call last)",
            "\u001b[0;32m<ipython-input-27-1797e5c58db8>\u001b[0m in \u001b[0;36m<cell line: 120>\u001b[0;34m()\u001b[0m\n\u001b[1;32m    119\u001b[0m \u001b[0;34m\u001b[0m\u001b[0m\n\u001b[1;32m    120\u001b[0m \u001b[0;32mif\u001b[0m \u001b[0m__name__\u001b[0m \u001b[0;34m==\u001b[0m \u001b[0;34m\"__main__\"\u001b[0m\u001b[0;34m:\u001b[0m\u001b[0;34m\u001b[0m\u001b[0;34m\u001b[0m\u001b[0m\n\u001b[0;32m--> 121\u001b[0;31m     \u001b[0mmain\u001b[0m\u001b[0;34m(\u001b[0m\u001b[0;34m)\u001b[0m\u001b[0;34m\u001b[0m\u001b[0;34m\u001b[0m\u001b[0m\n\u001b[0m",
            "\u001b[0;32m<ipython-input-27-1797e5c58db8>\u001b[0m in \u001b[0;36mmain\u001b[0;34m()\u001b[0m\n\u001b[1;32m     74\u001b[0m         \u001b[0mprint\u001b[0m\u001b[0;34m(\u001b[0m\u001b[0;34mf\"Current speed: {ship.current_speed}\"\u001b[0m\u001b[0;34m)\u001b[0m\u001b[0;34m\u001b[0m\u001b[0;34m\u001b[0m\u001b[0m\n\u001b[1;32m     75\u001b[0m \u001b[0;34m\u001b[0m\u001b[0m\n\u001b[0;32m---> 76\u001b[0;31m         \u001b[0mcommand\u001b[0m \u001b[0;34m=\u001b[0m \u001b[0minput\u001b[0m\u001b[0;34m(\u001b[0m\u001b[0;34m\"Enter a command (accelerate, decelerate, refuel, check_status, end_mission): \"\u001b[0m\u001b[0;34m)\u001b[0m\u001b[0;34m\u001b[0m\u001b[0;34m\u001b[0m\u001b[0m\n\u001b[0m\u001b[1;32m     77\u001b[0m \u001b[0;34m\u001b[0m\u001b[0m\n\u001b[1;32m     78\u001b[0m         \u001b[0mevent_damage\u001b[0m \u001b[0;34m=\u001b[0m \u001b[0mmission\u001b[0m\u001b[0;34m.\u001b[0m\u001b[0mgenerate_event\u001b[0m\u001b[0;34m(\u001b[0m\u001b[0;34m)\u001b[0m\u001b[0;34m\u001b[0m\u001b[0;34m\u001b[0m\u001b[0m\n",
            "\u001b[0;32m/usr/local/lib/python3.10/dist-packages/ipykernel/kernelbase.py\u001b[0m in \u001b[0;36mraw_input\u001b[0;34m(self, prompt)\u001b[0m\n\u001b[1;32m    849\u001b[0m                 \u001b[0;34m\"raw_input was called, but this frontend does not support input requests.\"\u001b[0m\u001b[0;34m\u001b[0m\u001b[0;34m\u001b[0m\u001b[0m\n\u001b[1;32m    850\u001b[0m             )\n\u001b[0;32m--> 851\u001b[0;31m         return self._input_request(str(prompt),\n\u001b[0m\u001b[1;32m    852\u001b[0m             \u001b[0mself\u001b[0m\u001b[0;34m.\u001b[0m\u001b[0m_parent_ident\u001b[0m\u001b[0;34m,\u001b[0m\u001b[0;34m\u001b[0m\u001b[0;34m\u001b[0m\u001b[0m\n\u001b[1;32m    853\u001b[0m             \u001b[0mself\u001b[0m\u001b[0;34m.\u001b[0m\u001b[0m_parent_header\u001b[0m\u001b[0;34m,\u001b[0m\u001b[0;34m\u001b[0m\u001b[0;34m\u001b[0m\u001b[0m\n",
            "\u001b[0;32m/usr/local/lib/python3.10/dist-packages/ipykernel/kernelbase.py\u001b[0m in \u001b[0;36m_input_request\u001b[0;34m(self, prompt, ident, parent, password)\u001b[0m\n\u001b[1;32m    893\u001b[0m             \u001b[0;32mexcept\u001b[0m \u001b[0mKeyboardInterrupt\u001b[0m\u001b[0;34m:\u001b[0m\u001b[0;34m\u001b[0m\u001b[0;34m\u001b[0m\u001b[0m\n\u001b[1;32m    894\u001b[0m                 \u001b[0;31m# re-raise KeyboardInterrupt, to truncate traceback\u001b[0m\u001b[0;34m\u001b[0m\u001b[0;34m\u001b[0m\u001b[0m\n\u001b[0;32m--> 895\u001b[0;31m                 \u001b[0;32mraise\u001b[0m \u001b[0mKeyboardInterrupt\u001b[0m\u001b[0;34m(\u001b[0m\u001b[0;34m\"Interrupted by user\"\u001b[0m\u001b[0;34m)\u001b[0m \u001b[0;32mfrom\u001b[0m \u001b[0;32mNone\u001b[0m\u001b[0;34m\u001b[0m\u001b[0;34m\u001b[0m\u001b[0m\n\u001b[0m\u001b[1;32m    896\u001b[0m             \u001b[0;32mexcept\u001b[0m \u001b[0mException\u001b[0m \u001b[0;32mas\u001b[0m \u001b[0me\u001b[0m\u001b[0;34m:\u001b[0m\u001b[0;34m\u001b[0m\u001b[0;34m\u001b[0m\u001b[0m\n\u001b[1;32m    897\u001b[0m                 \u001b[0mself\u001b[0m\u001b[0;34m.\u001b[0m\u001b[0mlog\u001b[0m\u001b[0;34m.\u001b[0m\u001b[0mwarning\u001b[0m\u001b[0;34m(\u001b[0m\u001b[0;34m\"Invalid Message:\"\u001b[0m\u001b[0;34m,\u001b[0m \u001b[0mexc_info\u001b[0m\u001b[0;34m=\u001b[0m\u001b[0;32mTrue\u001b[0m\u001b[0;34m)\u001b[0m\u001b[0;34m\u001b[0m\u001b[0;34m\u001b[0m\u001b[0m\n",
            "\u001b[0;31mKeyboardInterrupt\u001b[0m: Interrupted by user"
          ]
        }
      ]
    },
    {
      "cell_type": "markdown",
      "source": [
        "# Дополнительно:"
      ],
      "metadata": {
        "id": "F7mRVsZjCXk0"
      }
    },
    {
      "cell_type": "markdown",
      "source": [
        "**Описание:** создайте консольную версию игры крестики-нолики, используя классы"
      ],
      "metadata": {
        "id": "X4Lkf86UCc1h"
      }
    },
    {
      "cell_type": "code",
      "source": [],
      "metadata": {
        "id": "x9OxpNsyCcUo"
      },
      "execution_count": null,
      "outputs": []
    }
  ]
}